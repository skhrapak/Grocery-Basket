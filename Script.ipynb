{
 "cells": [
  {
   "cell_type": "markdown",
   "id": "a71b19e5-4b75-440d-b466-55d1588e3f4e",
   "metadata": {},
   "source": [
    "# 0.1 Importing libraries"
   ]
  },
  {
   "cell_type": "code",
   "execution_count": 1,
   "id": "c4bcc2d8-216f-425a-a457-c18313747a81",
   "metadata": {},
   "outputs": [],
   "source": [
    "#Import libraries\n",
    "import pandas as pd\n",
    "import numpy as np\n",
    "import os\n",
    "import matplotlib.pyplot as plt\n",
    "import seaborn as sns\n",
    "import scipy"
   ]
  },
  {
   "cell_type": "markdown",
   "id": "26d381cc-ca27-4ab3-b398-547b3fbd7087",
   "metadata": {},
   "source": [
    "# 0.2 Importing data files"
   ]
  },
  {
   "cell_type": "code",
   "execution_count": 2,
   "id": "d7def351-ffbd-4b45-a0d5-6fdf31d89417",
   "metadata": {},
   "outputs": [],
   "source": [
    "#Setting path\n",
    "path = r'C:\\Users\\skhra\\DataAnalytics\\Feb2025_InstacartBasketAnalysis'"
   ]
  },
  {
   "cell_type": "code",
   "execution_count": 3,
   "id": "6a4362ff-cc62-4cf0-a7d7-451efb2922fb",
   "metadata": {},
   "outputs": [],
   "source": [
    "#Importing grand_merged dataset \n",
    "df_grand_merge = pd.read_pickle(os.path.join(path, '02- Data', 'PreparedData', 'grand_merge.pkl'))"
   ]
  },
  {
   "cell_type": "code",
   "execution_count": 4,
   "id": "9a105fa1-a5ec-44c6-89a3-6ba0d70022d9",
   "metadata": {},
   "outputs": [
    {
     "data": {
      "text/html": [
       "<div>\n",
       "<style scoped>\n",
       "    .dataframe tbody tr th:only-of-type {\n",
       "        vertical-align: middle;\n",
       "    }\n",
       "\n",
       "    .dataframe tbody tr th {\n",
       "        vertical-align: top;\n",
       "    }\n",
       "\n",
       "    .dataframe thead th {\n",
       "        text-align: right;\n",
       "    }\n",
       "</style>\n",
       "<table border=\"1\" class=\"dataframe\">\n",
       "  <thead>\n",
       "    <tr style=\"text-align: right;\">\n",
       "      <th></th>\n",
       "      <th>order_id</th>\n",
       "      <th>user_id</th>\n",
       "      <th>order_number</th>\n",
       "      <th>order_day_of_week</th>\n",
       "      <th>order_hour_of_day</th>\n",
       "      <th>days_from_previous_order</th>\n",
       "      <th>product_id</th>\n",
       "      <th>add_to_cart_order</th>\n",
       "      <th>reordered</th>\n",
       "      <th>product_name</th>\n",
       "      <th>...</th>\n",
       "      <th>first_name</th>\n",
       "      <th>last_name</th>\n",
       "      <th>gender</th>\n",
       "      <th>state</th>\n",
       "      <th>age</th>\n",
       "      <th>date_joined</th>\n",
       "      <th>n_dependants</th>\n",
       "      <th>fam_status</th>\n",
       "      <th>income</th>\n",
       "      <th>_merge</th>\n",
       "    </tr>\n",
       "  </thead>\n",
       "  <tbody>\n",
       "    <tr>\n",
       "      <th>0</th>\n",
       "      <td>2539329</td>\n",
       "      <td>1</td>\n",
       "      <td>1</td>\n",
       "      <td>2</td>\n",
       "      <td>8</td>\n",
       "      <td>NaN</td>\n",
       "      <td>196</td>\n",
       "      <td>1</td>\n",
       "      <td>0</td>\n",
       "      <td>Soda</td>\n",
       "      <td>...</td>\n",
       "      <td>Linda</td>\n",
       "      <td>Nguyen</td>\n",
       "      <td>Female</td>\n",
       "      <td>Alabama</td>\n",
       "      <td>31</td>\n",
       "      <td>2/17/2019</td>\n",
       "      <td>3</td>\n",
       "      <td>married</td>\n",
       "      <td>40423</td>\n",
       "      <td>both</td>\n",
       "    </tr>\n",
       "    <tr>\n",
       "      <th>1</th>\n",
       "      <td>2539329</td>\n",
       "      <td>1</td>\n",
       "      <td>1</td>\n",
       "      <td>2</td>\n",
       "      <td>8</td>\n",
       "      <td>NaN</td>\n",
       "      <td>14084</td>\n",
       "      <td>2</td>\n",
       "      <td>0</td>\n",
       "      <td>Organic Unsweetened Vanilla Almond Milk</td>\n",
       "      <td>...</td>\n",
       "      <td>Linda</td>\n",
       "      <td>Nguyen</td>\n",
       "      <td>Female</td>\n",
       "      <td>Alabama</td>\n",
       "      <td>31</td>\n",
       "      <td>2/17/2019</td>\n",
       "      <td>3</td>\n",
       "      <td>married</td>\n",
       "      <td>40423</td>\n",
       "      <td>both</td>\n",
       "    </tr>\n",
       "    <tr>\n",
       "      <th>2</th>\n",
       "      <td>2539329</td>\n",
       "      <td>1</td>\n",
       "      <td>1</td>\n",
       "      <td>2</td>\n",
       "      <td>8</td>\n",
       "      <td>NaN</td>\n",
       "      <td>12427</td>\n",
       "      <td>3</td>\n",
       "      <td>0</td>\n",
       "      <td>Original Beef Jerky</td>\n",
       "      <td>...</td>\n",
       "      <td>Linda</td>\n",
       "      <td>Nguyen</td>\n",
       "      <td>Female</td>\n",
       "      <td>Alabama</td>\n",
       "      <td>31</td>\n",
       "      <td>2/17/2019</td>\n",
       "      <td>3</td>\n",
       "      <td>married</td>\n",
       "      <td>40423</td>\n",
       "      <td>both</td>\n",
       "    </tr>\n",
       "    <tr>\n",
       "      <th>3</th>\n",
       "      <td>2539329</td>\n",
       "      <td>1</td>\n",
       "      <td>1</td>\n",
       "      <td>2</td>\n",
       "      <td>8</td>\n",
       "      <td>NaN</td>\n",
       "      <td>26088</td>\n",
       "      <td>4</td>\n",
       "      <td>0</td>\n",
       "      <td>Aged White Cheddar Popcorn</td>\n",
       "      <td>...</td>\n",
       "      <td>Linda</td>\n",
       "      <td>Nguyen</td>\n",
       "      <td>Female</td>\n",
       "      <td>Alabama</td>\n",
       "      <td>31</td>\n",
       "      <td>2/17/2019</td>\n",
       "      <td>3</td>\n",
       "      <td>married</td>\n",
       "      <td>40423</td>\n",
       "      <td>both</td>\n",
       "    </tr>\n",
       "    <tr>\n",
       "      <th>4</th>\n",
       "      <td>2539329</td>\n",
       "      <td>1</td>\n",
       "      <td>1</td>\n",
       "      <td>2</td>\n",
       "      <td>8</td>\n",
       "      <td>NaN</td>\n",
       "      <td>26405</td>\n",
       "      <td>5</td>\n",
       "      <td>0</td>\n",
       "      <td>XL Pick-A-Size Paper Towel Rolls</td>\n",
       "      <td>...</td>\n",
       "      <td>Linda</td>\n",
       "      <td>Nguyen</td>\n",
       "      <td>Female</td>\n",
       "      <td>Alabama</td>\n",
       "      <td>31</td>\n",
       "      <td>2/17/2019</td>\n",
       "      <td>3</td>\n",
       "      <td>married</td>\n",
       "      <td>40423</td>\n",
       "      <td>both</td>\n",
       "    </tr>\n",
       "  </tbody>\n",
       "</table>\n",
       "<p>5 rows × 33 columns</p>\n",
       "</div>"
      ],
      "text/plain": [
       "   order_id  user_id  order_number  order_day_of_week  order_hour_of_day  \\\n",
       "0   2539329        1             1                  2                  8   \n",
       "1   2539329        1             1                  2                  8   \n",
       "2   2539329        1             1                  2                  8   \n",
       "3   2539329        1             1                  2                  8   \n",
       "4   2539329        1             1                  2                  8   \n",
       "\n",
       "   days_from_previous_order  product_id  add_to_cart_order  reordered  \\\n",
       "0                       NaN         196                  1          0   \n",
       "1                       NaN       14084                  2          0   \n",
       "2                       NaN       12427                  3          0   \n",
       "3                       NaN       26088                  4          0   \n",
       "4                       NaN       26405                  5          0   \n",
       "\n",
       "                              product_name  ...  first_name  last_name  \\\n",
       "0                                     Soda  ...       Linda     Nguyen   \n",
       "1  Organic Unsweetened Vanilla Almond Milk  ...       Linda     Nguyen   \n",
       "2                      Original Beef Jerky  ...       Linda     Nguyen   \n",
       "3               Aged White Cheddar Popcorn  ...       Linda     Nguyen   \n",
       "4         XL Pick-A-Size Paper Towel Rolls  ...       Linda     Nguyen   \n",
       "\n",
       "   gender    state age date_joined n_dependants  fam_status income  _merge  \n",
       "0  Female  Alabama  31   2/17/2019            3     married  40423    both  \n",
       "1  Female  Alabama  31   2/17/2019            3     married  40423    both  \n",
       "2  Female  Alabama  31   2/17/2019            3     married  40423    both  \n",
       "3  Female  Alabama  31   2/17/2019            3     married  40423    both  \n",
       "4  Female  Alabama  31   2/17/2019            3     married  40423    both  \n",
       "\n",
       "[5 rows x 33 columns]"
      ]
     },
     "execution_count": 4,
     "metadata": {},
     "output_type": "execute_result"
    }
   ],
   "source": [
    "#Checking dataset\n",
    "df_grand_merge.head(5)"
   ]
  },
  {
   "cell_type": "code",
   "execution_count": 5,
   "id": "f6d5ae4f-f466-4554-970f-1a8a1f5a8fc6",
   "metadata": {
    "scrolled": true
   },
   "outputs": [
    {
     "data": {
      "text/plain": [
       "(32404859, 33)"
      ]
     },
     "execution_count": 5,
     "metadata": {},
     "output_type": "execute_result"
    }
   ],
   "source": [
    "df_grand_merge.shape"
   ]
  },
  {
   "cell_type": "code",
   "execution_count": 6,
   "id": "567757ad-0e2c-470a-b5c7-ecb77767faa5",
   "metadata": {},
   "outputs": [],
   "source": [
    "#Removing a column not needed any more\n",
    "df_grand_merge = df_grand_merge.drop(columns = ['_merge'])"
   ]
  },
  {
   "cell_type": "code",
   "execution_count": 7,
   "id": "847187c6-36e4-4ca5-b89a-44d675465d8c",
   "metadata": {},
   "outputs": [
    {
     "data": {
      "text/plain": [
       "(32404859, 32)"
      ]
     },
     "execution_count": 7,
     "metadata": {},
     "output_type": "execute_result"
    }
   ],
   "source": [
    "df_grand_merge.shape"
   ]
  },
  {
   "cell_type": "code",
   "execution_count": 8,
   "id": "5d71d79f-3fad-4942-baf5-df529ace6e2b",
   "metadata": {
    "scrolled": true
   },
   "outputs": [
    {
     "data": {
      "text/plain": [
       "Index(['order_id', 'user_id', 'order_number', 'order_day_of_week',\n",
       "       'order_hour_of_day', 'days_from_previous_order', 'product_id',\n",
       "       'add_to_cart_order', 'reordered', 'product_name', 'aisle_id',\n",
       "       'department_id', 'prices', 'price_range_loc', 'busiest_day',\n",
       "       'busiest_days', 'busiest_period_of_day', 'max_order', 'loyality_flag',\n",
       "       'avg_order', 'spending_flag', 'median_days_from_previous_order',\n",
       "       'frequency_flag', 'first_name', 'last_name', 'gender', 'state', 'age',\n",
       "       'date_joined', 'n_dependants', 'fam_status', 'income'],\n",
       "      dtype='object')"
      ]
     },
     "execution_count": 8,
     "metadata": {},
     "output_type": "execute_result"
    }
   ],
   "source": [
    "df_grand_merge.columns"
   ]
  },
  {
   "cell_type": "markdown",
   "id": "de361257-91c0-4e65-bef6-cfd6c55c65b8",
   "metadata": {},
   "source": [
    "# 0.3 Additional analytics"
   ]
  },
  {
   "cell_type": "markdown",
   "id": "5d717cfa-6d9c-4e96-a543-37ca2e08e26a",
   "metadata": {},
   "source": [
    "## 0.3.1. Regional information"
   ]
  },
  {
   "cell_type": "code",
   "execution_count": 9,
   "id": "8e488bfc-b0fb-4dbe-81e9-71ed29a0222a",
   "metadata": {},
   "outputs": [],
   "source": [
    "#Creating region lists:\n",
    "Northeast = ['Maine', 'New Hampshire', 'Vermont', 'Massachusetts', 'Rhode Island', 'Connecticut', 'New York', 'Pennsylvania', 'New Jersey']\n",
    "Midwest = ['Wisconsin', 'Michigan', 'Illinois', 'Indiana', 'Ohio', 'North Dakota', 'South Dakota', 'Nebraska', 'Kansas', 'Minnesota', 'Iowa', 'Missouri']\n",
    "South = ['Delaware', 'Maryland', 'District of Columbia', 'Virginia', 'West Virginia', 'North Carolina', 'South Carolina', 'Georgia', 'Florida', 'Kentucky', 'Tennessee', 'Mississippi', 'Alabama', 'Oklahoma', 'Texas', 'Arkansas', 'Louisiana']\n",
    "West = ['Idaho', 'Montana', 'Wyoming', 'Nevada', 'Utah', 'Colorado', 'Arizona', 'New Mexico', 'Alaska', 'Washington', 'Oregon', 'California', 'Hawaii']"
   ]
  },
  {
   "cell_type": "markdown",
   "id": "423851a1-5d8d-4e9f-b500-bfded7558693",
   "metadata": {},
   "source": [
    "## Adding new column using loc() function"
   ]
  },
  {
   "cell_type": "code",
   "execution_count": 10,
   "id": "fa34683e-f988-4d25-b1bf-04112fd99330",
   "metadata": {},
   "outputs": [],
   "source": [
    "df_grand_merge.loc[df_grand_merge['state'].isin(Northeast), 'region'] = 'Northeast'"
   ]
  },
  {
   "cell_type": "code",
   "execution_count": 11,
   "id": "da2b833e-5ae0-49e6-a4b9-1f82220c9d66",
   "metadata": {},
   "outputs": [],
   "source": [
    "df_grand_merge.loc[df_grand_merge['state'].isin(Midwest), 'region'] = 'Midwest'"
   ]
  },
  {
   "cell_type": "code",
   "execution_count": 12,
   "id": "3bdabb17-4249-46bd-b0db-c6b3e98f7fba",
   "metadata": {},
   "outputs": [],
   "source": [
    "df_grand_merge.loc[df_grand_merge['state'].isin(South), 'region'] = 'South'"
   ]
  },
  {
   "cell_type": "code",
   "execution_count": 13,
   "id": "8ea72551-c20c-40bf-96b2-4a5dede8ff03",
   "metadata": {},
   "outputs": [],
   "source": [
    "df_grand_merge.loc[df_grand_merge['state'].isin(West), 'region'] = 'West'"
   ]
  },
  {
   "cell_type": "code",
   "execution_count": 14,
   "id": "efa7d2fa-a4bd-4465-9f65-bbd9edffe093",
   "metadata": {},
   "outputs": [
    {
     "data": {
      "text/html": [
       "<div>\n",
       "<style scoped>\n",
       "    .dataframe tbody tr th:only-of-type {\n",
       "        vertical-align: middle;\n",
       "    }\n",
       "\n",
       "    .dataframe tbody tr th {\n",
       "        vertical-align: top;\n",
       "    }\n",
       "\n",
       "    .dataframe thead th {\n",
       "        text-align: right;\n",
       "    }\n",
       "</style>\n",
       "<table border=\"1\" class=\"dataframe\">\n",
       "  <thead>\n",
       "    <tr style=\"text-align: right;\">\n",
       "      <th></th>\n",
       "      <th>order_id</th>\n",
       "      <th>user_id</th>\n",
       "      <th>order_number</th>\n",
       "      <th>order_day_of_week</th>\n",
       "      <th>order_hour_of_day</th>\n",
       "      <th>days_from_previous_order</th>\n",
       "      <th>product_id</th>\n",
       "      <th>add_to_cart_order</th>\n",
       "      <th>reordered</th>\n",
       "      <th>product_name</th>\n",
       "      <th>...</th>\n",
       "      <th>first_name</th>\n",
       "      <th>last_name</th>\n",
       "      <th>gender</th>\n",
       "      <th>state</th>\n",
       "      <th>age</th>\n",
       "      <th>date_joined</th>\n",
       "      <th>n_dependants</th>\n",
       "      <th>fam_status</th>\n",
       "      <th>income</th>\n",
       "      <th>region</th>\n",
       "    </tr>\n",
       "  </thead>\n",
       "  <tbody>\n",
       "    <tr>\n",
       "      <th>0</th>\n",
       "      <td>2539329</td>\n",
       "      <td>1</td>\n",
       "      <td>1</td>\n",
       "      <td>2</td>\n",
       "      <td>8</td>\n",
       "      <td>NaN</td>\n",
       "      <td>196</td>\n",
       "      <td>1</td>\n",
       "      <td>0</td>\n",
       "      <td>Soda</td>\n",
       "      <td>...</td>\n",
       "      <td>Linda</td>\n",
       "      <td>Nguyen</td>\n",
       "      <td>Female</td>\n",
       "      <td>Alabama</td>\n",
       "      <td>31</td>\n",
       "      <td>2/17/2019</td>\n",
       "      <td>3</td>\n",
       "      <td>married</td>\n",
       "      <td>40423</td>\n",
       "      <td>South</td>\n",
       "    </tr>\n",
       "    <tr>\n",
       "      <th>1</th>\n",
       "      <td>2539329</td>\n",
       "      <td>1</td>\n",
       "      <td>1</td>\n",
       "      <td>2</td>\n",
       "      <td>8</td>\n",
       "      <td>NaN</td>\n",
       "      <td>14084</td>\n",
       "      <td>2</td>\n",
       "      <td>0</td>\n",
       "      <td>Organic Unsweetened Vanilla Almond Milk</td>\n",
       "      <td>...</td>\n",
       "      <td>Linda</td>\n",
       "      <td>Nguyen</td>\n",
       "      <td>Female</td>\n",
       "      <td>Alabama</td>\n",
       "      <td>31</td>\n",
       "      <td>2/17/2019</td>\n",
       "      <td>3</td>\n",
       "      <td>married</td>\n",
       "      <td>40423</td>\n",
       "      <td>South</td>\n",
       "    </tr>\n",
       "    <tr>\n",
       "      <th>2</th>\n",
       "      <td>2539329</td>\n",
       "      <td>1</td>\n",
       "      <td>1</td>\n",
       "      <td>2</td>\n",
       "      <td>8</td>\n",
       "      <td>NaN</td>\n",
       "      <td>12427</td>\n",
       "      <td>3</td>\n",
       "      <td>0</td>\n",
       "      <td>Original Beef Jerky</td>\n",
       "      <td>...</td>\n",
       "      <td>Linda</td>\n",
       "      <td>Nguyen</td>\n",
       "      <td>Female</td>\n",
       "      <td>Alabama</td>\n",
       "      <td>31</td>\n",
       "      <td>2/17/2019</td>\n",
       "      <td>3</td>\n",
       "      <td>married</td>\n",
       "      <td>40423</td>\n",
       "      <td>South</td>\n",
       "    </tr>\n",
       "    <tr>\n",
       "      <th>3</th>\n",
       "      <td>2539329</td>\n",
       "      <td>1</td>\n",
       "      <td>1</td>\n",
       "      <td>2</td>\n",
       "      <td>8</td>\n",
       "      <td>NaN</td>\n",
       "      <td>26088</td>\n",
       "      <td>4</td>\n",
       "      <td>0</td>\n",
       "      <td>Aged White Cheddar Popcorn</td>\n",
       "      <td>...</td>\n",
       "      <td>Linda</td>\n",
       "      <td>Nguyen</td>\n",
       "      <td>Female</td>\n",
       "      <td>Alabama</td>\n",
       "      <td>31</td>\n",
       "      <td>2/17/2019</td>\n",
       "      <td>3</td>\n",
       "      <td>married</td>\n",
       "      <td>40423</td>\n",
       "      <td>South</td>\n",
       "    </tr>\n",
       "    <tr>\n",
       "      <th>4</th>\n",
       "      <td>2539329</td>\n",
       "      <td>1</td>\n",
       "      <td>1</td>\n",
       "      <td>2</td>\n",
       "      <td>8</td>\n",
       "      <td>NaN</td>\n",
       "      <td>26405</td>\n",
       "      <td>5</td>\n",
       "      <td>0</td>\n",
       "      <td>XL Pick-A-Size Paper Towel Rolls</td>\n",
       "      <td>...</td>\n",
       "      <td>Linda</td>\n",
       "      <td>Nguyen</td>\n",
       "      <td>Female</td>\n",
       "      <td>Alabama</td>\n",
       "      <td>31</td>\n",
       "      <td>2/17/2019</td>\n",
       "      <td>3</td>\n",
       "      <td>married</td>\n",
       "      <td>40423</td>\n",
       "      <td>South</td>\n",
       "    </tr>\n",
       "  </tbody>\n",
       "</table>\n",
       "<p>5 rows × 33 columns</p>\n",
       "</div>"
      ],
      "text/plain": [
       "   order_id  user_id  order_number  order_day_of_week  order_hour_of_day  \\\n",
       "0   2539329        1             1                  2                  8   \n",
       "1   2539329        1             1                  2                  8   \n",
       "2   2539329        1             1                  2                  8   \n",
       "3   2539329        1             1                  2                  8   \n",
       "4   2539329        1             1                  2                  8   \n",
       "\n",
       "   days_from_previous_order  product_id  add_to_cart_order  reordered  \\\n",
       "0                       NaN         196                  1          0   \n",
       "1                       NaN       14084                  2          0   \n",
       "2                       NaN       12427                  3          0   \n",
       "3                       NaN       26088                  4          0   \n",
       "4                       NaN       26405                  5          0   \n",
       "\n",
       "                              product_name  ...  first_name  last_name  \\\n",
       "0                                     Soda  ...       Linda     Nguyen   \n",
       "1  Organic Unsweetened Vanilla Almond Milk  ...       Linda     Nguyen   \n",
       "2                      Original Beef Jerky  ...       Linda     Nguyen   \n",
       "3               Aged White Cheddar Popcorn  ...       Linda     Nguyen   \n",
       "4         XL Pick-A-Size Paper Towel Rolls  ...       Linda     Nguyen   \n",
       "\n",
       "   gender    state age date_joined n_dependants  fam_status income  region  \n",
       "0  Female  Alabama  31   2/17/2019            3     married  40423   South  \n",
       "1  Female  Alabama  31   2/17/2019            3     married  40423   South  \n",
       "2  Female  Alabama  31   2/17/2019            3     married  40423   South  \n",
       "3  Female  Alabama  31   2/17/2019            3     married  40423   South  \n",
       "4  Female  Alabama  31   2/17/2019            3     married  40423   South  \n",
       "\n",
       "[5 rows x 33 columns]"
      ]
     },
     "execution_count": 14,
     "metadata": {},
     "output_type": "execute_result"
    }
   ],
   "source": [
    "# Checking the dataset\n",
    "df_grand_merge.head(5)"
   ]
  },
  {
   "cell_type": "code",
   "execution_count": 15,
   "id": "019e47b9-2c8a-462e-823e-ba45d7f0bdcd",
   "metadata": {
    "scrolled": true
   },
   "outputs": [
    {
     "data": {
      "text/plain": [
       "region\n",
       "South        10791885\n",
       "West          8292913\n",
       "Midwest       7597325\n",
       "Northeast     5722736\n",
       "Name: count, dtype: int64"
      ]
     },
     "execution_count": 15,
     "metadata": {},
     "output_type": "execute_result"
    }
   ],
   "source": [
    "df_grand_merge['region'].value_counts(dropna = False)"
   ]
  },
  {
   "cell_type": "code",
   "execution_count": 50,
   "id": "119645cb-9640-406e-aa96-d348c66c84d8",
   "metadata": {},
   "outputs": [],
   "source": [
    "#Creating crosstabs\n",
    "crosstab = pd.crosstab(df_grand_merge['region'], df_grand_merge['spending_flag'], dropna = False)"
   ]
  },
  {
   "cell_type": "code",
   "execution_count": 56,
   "id": "943f5bd3-957d-4cc1-926f-e05ce2b295a8",
   "metadata": {
    "jupyter": {
     "source_hidden": true
    }
   },
   "outputs": [],
   "source": [
    "#crosstab of spending flag and loyality status\n",
    "crosstab = pd.crosstab(df_grand_merge['loyality_flag'], df_grand_merge['spending_flag'], dropna = False)"
   ]
  },
  {
   "cell_type": "code",
   "execution_count": 73,
   "id": "83383ebb-d912-4230-bcfb-fb0b43eea043",
   "metadata": {},
   "outputs": [],
   "source": [
    "#crosstab of spending flag and family status\n",
    "crosstab = pd.crosstab(df_grand_merge['fam_status'], df_grand_merge['spending_flag'], dropna = False)"
   ]
  },
  {
   "cell_type": "code",
   "execution_count": 74,
   "id": "06ae4d4b-3fda-49d7-966c-924fb22045ed",
   "metadata": {},
   "outputs": [],
   "source": [
    "crosstab.to_clipboard()"
   ]
  },
  {
   "cell_type": "markdown",
   "id": "bafa34cc-2f89-4024-ae97-0897a1efe0bc",
   "metadata": {},
   "source": [
    "## 0.3.2 Removing low-activity customers"
   ]
  },
  {
   "cell_type": "code",
   "execution_count": 18,
   "id": "9c292c47-7973-4a94-828b-8a4047db1547",
   "metadata": {},
   "outputs": [],
   "source": [
    "#Removing low-activity customers\n",
    "df_grand_merge_high_activity = df_grand_merge[df_grand_merge['max_order']>=5]"
   ]
  },
  {
   "cell_type": "code",
   "execution_count": 19,
   "id": "c4106861-6290-45b1-8416-bf222029239e",
   "metadata": {},
   "outputs": [],
   "source": [
    "low_activity = df_grand_merge[df_grand_merge['max_order']<5]"
   ]
  },
  {
   "cell_type": "code",
   "execution_count": 20,
   "id": "9ca0ec50-6a58-4f6c-925f-12a4ac49fce0",
   "metadata": {},
   "outputs": [
    {
     "data": {
      "text/plain": [
       "1440295"
      ]
     },
     "execution_count": 20,
     "metadata": {},
     "output_type": "execute_result"
    }
   ],
   "source": [
    "len(low_activity)"
   ]
  },
  {
   "cell_type": "code",
   "execution_count": 21,
   "id": "24913daa-707c-4e33-ac2f-7740cd2837dd",
   "metadata": {},
   "outputs": [
    {
     "data": {
      "text/html": [
       "<div>\n",
       "<style scoped>\n",
       "    .dataframe tbody tr th:only-of-type {\n",
       "        vertical-align: middle;\n",
       "    }\n",
       "\n",
       "    .dataframe tbody tr th {\n",
       "        vertical-align: top;\n",
       "    }\n",
       "\n",
       "    .dataframe thead th {\n",
       "        text-align: right;\n",
       "    }\n",
       "</style>\n",
       "<table border=\"1\" class=\"dataframe\">\n",
       "  <thead>\n",
       "    <tr style=\"text-align: right;\">\n",
       "      <th></th>\n",
       "      <th>user_id</th>\n",
       "      <th>max_order</th>\n",
       "    </tr>\n",
       "  </thead>\n",
       "  <tbody>\n",
       "    <tr>\n",
       "      <th>0</th>\n",
       "      <td>1</td>\n",
       "      <td>10</td>\n",
       "    </tr>\n",
       "    <tr>\n",
       "      <th>59</th>\n",
       "      <td>2</td>\n",
       "      <td>14</td>\n",
       "    </tr>\n",
       "    <tr>\n",
       "      <th>254</th>\n",
       "      <td>3</td>\n",
       "      <td>12</td>\n",
       "    </tr>\n",
       "    <tr>\n",
       "      <th>342</th>\n",
       "      <td>4</td>\n",
       "      <td>5</td>\n",
       "    </tr>\n",
       "    <tr>\n",
       "      <th>411</th>\n",
       "      <td>7</td>\n",
       "      <td>20</td>\n",
       "    </tr>\n",
       "    <tr>\n",
       "      <th>...</th>\n",
       "      <td>...</td>\n",
       "      <td>...</td>\n",
       "    </tr>\n",
       "    <tr>\n",
       "      <th>32403340</th>\n",
       "      <td>206203</td>\n",
       "      <td>5</td>\n",
       "    </tr>\n",
       "    <tr>\n",
       "      <th>32403545</th>\n",
       "      <td>206206</td>\n",
       "      <td>67</td>\n",
       "    </tr>\n",
       "    <tr>\n",
       "      <th>32403830</th>\n",
       "      <td>206207</td>\n",
       "      <td>16</td>\n",
       "    </tr>\n",
       "    <tr>\n",
       "      <th>32404053</th>\n",
       "      <td>206208</td>\n",
       "      <td>49</td>\n",
       "    </tr>\n",
       "    <tr>\n",
       "      <th>32404730</th>\n",
       "      <td>206209</td>\n",
       "      <td>13</td>\n",
       "    </tr>\n",
       "  </tbody>\n",
       "</table>\n",
       "<p>162631 rows × 2 columns</p>\n",
       "</div>"
      ],
      "text/plain": [
       "          user_id  max_order\n",
       "0               1         10\n",
       "59              2         14\n",
       "254             3         12\n",
       "342             4          5\n",
       "411             7         20\n",
       "...           ...        ...\n",
       "32403340   206203          5\n",
       "32403545   206206         67\n",
       "32403830   206207         16\n",
       "32404053   206208         49\n",
       "32404730   206209         13\n",
       "\n",
       "[162631 rows x 2 columns]"
      ]
     },
     "execution_count": 21,
     "metadata": {},
     "output_type": "execute_result"
    }
   ],
   "source": [
    "#Checking the dataset\n",
    "df_grand_merge_high_activity[['user_id', 'max_order']].drop_duplicates()"
   ]
  },
  {
   "cell_type": "code",
   "execution_count": 22,
   "id": "5c3137b6-fa35-44bb-8d0f-8923522723fb",
   "metadata": {},
   "outputs": [
    {
     "data": {
      "text/plain": [
       "32404859"
      ]
     },
     "execution_count": 22,
     "metadata": {},
     "output_type": "execute_result"
    }
   ],
   "source": [
    "len(low_activity) + len(df_grand_merge_high_activity)"
   ]
  },
  {
   "cell_type": "code",
   "execution_count": 23,
   "id": "a5eaf8df-7dff-4381-9e6b-555a5fab2943",
   "metadata": {},
   "outputs": [],
   "source": [
    "#Exporting the dataset\n",
    "df_grand_merge_high_activity.to_pickle(os.path.join(path, '02- Data', 'PreparedData', 'grand_merge_high_activity.pkl'))"
   ]
  },
  {
   "cell_type": "markdown",
   "id": "2e5b7e30-4e19-477b-aeac-cbdd1a1feb36",
   "metadata": {},
   "source": [
    "## 0.3.3. Creating family profile"
   ]
  },
  {
   "cell_type": "code",
   "execution_count": 24,
   "id": "a9bbfe79-76b9-4638-aa94-f44429f000f3",
   "metadata": {},
   "outputs": [],
   "source": [
    "df_grand_merge.loc[(df_grand_merge['fam_status'] == 'married') & (df_grand_merge['n_dependants']>1), 'family_profile'] = 'Married with children'"
   ]
  },
  {
   "cell_type": "code",
   "execution_count": 25,
   "id": "a1368a82-464a-4631-8b60-b749e1670491",
   "metadata": {},
   "outputs": [],
   "source": [
    "df_grand_merge.loc[(df_grand_merge['fam_status'] == 'married') & (df_grand_merge['n_dependants']<=1), 'family_profile'] = 'Married without children'"
   ]
  },
  {
   "cell_type": "code",
   "execution_count": 26,
   "id": "04898c1c-c297-4189-a284-48c1022aff25",
   "metadata": {},
   "outputs": [],
   "source": [
    "df_grand_merge.loc[(df_grand_merge['fam_status'] != 'married') & (df_grand_merge['n_dependants']>=1), 'family_profile'] = 'Single with children'"
   ]
  },
  {
   "cell_type": "code",
   "execution_count": 27,
   "id": "f1340fd7-fb00-4e9f-9339-c89603a3de30",
   "metadata": {},
   "outputs": [],
   "source": [
    "df_grand_merge.loc[(df_grand_merge['fam_status'] != 'married') & (df_grand_merge['n_dependants']<1), 'family_profile'] = 'Single without children'"
   ]
  },
  {
   "cell_type": "code",
   "execution_count": 28,
   "id": "60013d44-a5ce-40de-a1d1-c12eb2f581f8",
   "metadata": {},
   "outputs": [
    {
     "data": {
      "text/html": [
       "<div>\n",
       "<style scoped>\n",
       "    .dataframe tbody tr th:only-of-type {\n",
       "        vertical-align: middle;\n",
       "    }\n",
       "\n",
       "    .dataframe tbody tr th {\n",
       "        vertical-align: top;\n",
       "    }\n",
       "\n",
       "    .dataframe thead th {\n",
       "        text-align: right;\n",
       "    }\n",
       "</style>\n",
       "<table border=\"1\" class=\"dataframe\">\n",
       "  <thead>\n",
       "    <tr style=\"text-align: right;\">\n",
       "      <th></th>\n",
       "      <th>order_id</th>\n",
       "      <th>user_id</th>\n",
       "      <th>order_number</th>\n",
       "      <th>order_day_of_week</th>\n",
       "      <th>order_hour_of_day</th>\n",
       "      <th>days_from_previous_order</th>\n",
       "      <th>product_id</th>\n",
       "      <th>add_to_cart_order</th>\n",
       "      <th>reordered</th>\n",
       "      <th>product_name</th>\n",
       "      <th>...</th>\n",
       "      <th>last_name</th>\n",
       "      <th>gender</th>\n",
       "      <th>state</th>\n",
       "      <th>age</th>\n",
       "      <th>date_joined</th>\n",
       "      <th>n_dependants</th>\n",
       "      <th>fam_status</th>\n",
       "      <th>income</th>\n",
       "      <th>region</th>\n",
       "      <th>family_profile</th>\n",
       "    </tr>\n",
       "  </thead>\n",
       "  <tbody>\n",
       "    <tr>\n",
       "      <th>0</th>\n",
       "      <td>2539329</td>\n",
       "      <td>1</td>\n",
       "      <td>1</td>\n",
       "      <td>2</td>\n",
       "      <td>8</td>\n",
       "      <td>NaN</td>\n",
       "      <td>196</td>\n",
       "      <td>1</td>\n",
       "      <td>0</td>\n",
       "      <td>Soda</td>\n",
       "      <td>...</td>\n",
       "      <td>Nguyen</td>\n",
       "      <td>Female</td>\n",
       "      <td>Alabama</td>\n",
       "      <td>31</td>\n",
       "      <td>2/17/2019</td>\n",
       "      <td>3</td>\n",
       "      <td>married</td>\n",
       "      <td>40423</td>\n",
       "      <td>South</td>\n",
       "      <td>Married with children</td>\n",
       "    </tr>\n",
       "    <tr>\n",
       "      <th>1</th>\n",
       "      <td>2539329</td>\n",
       "      <td>1</td>\n",
       "      <td>1</td>\n",
       "      <td>2</td>\n",
       "      <td>8</td>\n",
       "      <td>NaN</td>\n",
       "      <td>14084</td>\n",
       "      <td>2</td>\n",
       "      <td>0</td>\n",
       "      <td>Organic Unsweetened Vanilla Almond Milk</td>\n",
       "      <td>...</td>\n",
       "      <td>Nguyen</td>\n",
       "      <td>Female</td>\n",
       "      <td>Alabama</td>\n",
       "      <td>31</td>\n",
       "      <td>2/17/2019</td>\n",
       "      <td>3</td>\n",
       "      <td>married</td>\n",
       "      <td>40423</td>\n",
       "      <td>South</td>\n",
       "      <td>Married with children</td>\n",
       "    </tr>\n",
       "    <tr>\n",
       "      <th>2</th>\n",
       "      <td>2539329</td>\n",
       "      <td>1</td>\n",
       "      <td>1</td>\n",
       "      <td>2</td>\n",
       "      <td>8</td>\n",
       "      <td>NaN</td>\n",
       "      <td>12427</td>\n",
       "      <td>3</td>\n",
       "      <td>0</td>\n",
       "      <td>Original Beef Jerky</td>\n",
       "      <td>...</td>\n",
       "      <td>Nguyen</td>\n",
       "      <td>Female</td>\n",
       "      <td>Alabama</td>\n",
       "      <td>31</td>\n",
       "      <td>2/17/2019</td>\n",
       "      <td>3</td>\n",
       "      <td>married</td>\n",
       "      <td>40423</td>\n",
       "      <td>South</td>\n",
       "      <td>Married with children</td>\n",
       "    </tr>\n",
       "    <tr>\n",
       "      <th>3</th>\n",
       "      <td>2539329</td>\n",
       "      <td>1</td>\n",
       "      <td>1</td>\n",
       "      <td>2</td>\n",
       "      <td>8</td>\n",
       "      <td>NaN</td>\n",
       "      <td>26088</td>\n",
       "      <td>4</td>\n",
       "      <td>0</td>\n",
       "      <td>Aged White Cheddar Popcorn</td>\n",
       "      <td>...</td>\n",
       "      <td>Nguyen</td>\n",
       "      <td>Female</td>\n",
       "      <td>Alabama</td>\n",
       "      <td>31</td>\n",
       "      <td>2/17/2019</td>\n",
       "      <td>3</td>\n",
       "      <td>married</td>\n",
       "      <td>40423</td>\n",
       "      <td>South</td>\n",
       "      <td>Married with children</td>\n",
       "    </tr>\n",
       "    <tr>\n",
       "      <th>4</th>\n",
       "      <td>2539329</td>\n",
       "      <td>1</td>\n",
       "      <td>1</td>\n",
       "      <td>2</td>\n",
       "      <td>8</td>\n",
       "      <td>NaN</td>\n",
       "      <td>26405</td>\n",
       "      <td>5</td>\n",
       "      <td>0</td>\n",
       "      <td>XL Pick-A-Size Paper Towel Rolls</td>\n",
       "      <td>...</td>\n",
       "      <td>Nguyen</td>\n",
       "      <td>Female</td>\n",
       "      <td>Alabama</td>\n",
       "      <td>31</td>\n",
       "      <td>2/17/2019</td>\n",
       "      <td>3</td>\n",
       "      <td>married</td>\n",
       "      <td>40423</td>\n",
       "      <td>South</td>\n",
       "      <td>Married with children</td>\n",
       "    </tr>\n",
       "  </tbody>\n",
       "</table>\n",
       "<p>5 rows × 34 columns</p>\n",
       "</div>"
      ],
      "text/plain": [
       "   order_id  user_id  order_number  order_day_of_week  order_hour_of_day  \\\n",
       "0   2539329        1             1                  2                  8   \n",
       "1   2539329        1             1                  2                  8   \n",
       "2   2539329        1             1                  2                  8   \n",
       "3   2539329        1             1                  2                  8   \n",
       "4   2539329        1             1                  2                  8   \n",
       "\n",
       "   days_from_previous_order  product_id  add_to_cart_order  reordered  \\\n",
       "0                       NaN         196                  1          0   \n",
       "1                       NaN       14084                  2          0   \n",
       "2                       NaN       12427                  3          0   \n",
       "3                       NaN       26088                  4          0   \n",
       "4                       NaN       26405                  5          0   \n",
       "\n",
       "                              product_name  ...  last_name  gender    state  \\\n",
       "0                                     Soda  ...     Nguyen  Female  Alabama   \n",
       "1  Organic Unsweetened Vanilla Almond Milk  ...     Nguyen  Female  Alabama   \n",
       "2                      Original Beef Jerky  ...     Nguyen  Female  Alabama   \n",
       "3               Aged White Cheddar Popcorn  ...     Nguyen  Female  Alabama   \n",
       "4         XL Pick-A-Size Paper Towel Rolls  ...     Nguyen  Female  Alabama   \n",
       "\n",
       "  age date_joined n_dependants fam_status  income region  \\\n",
       "0  31   2/17/2019            3    married   40423  South   \n",
       "1  31   2/17/2019            3    married   40423  South   \n",
       "2  31   2/17/2019            3    married   40423  South   \n",
       "3  31   2/17/2019            3    married   40423  South   \n",
       "4  31   2/17/2019            3    married   40423  South   \n",
       "\n",
       "          family_profile  \n",
       "0  Married with children  \n",
       "1  Married with children  \n",
       "2  Married with children  \n",
       "3  Married with children  \n",
       "4  Married with children  \n",
       "\n",
       "[5 rows x 34 columns]"
      ]
     },
     "execution_count": 28,
     "metadata": {},
     "output_type": "execute_result"
    }
   ],
   "source": [
    "#Checking dataset\n",
    "df_grand_merge.head(5)"
   ]
  },
  {
   "cell_type": "code",
   "execution_count": 29,
   "id": "4e3e50fa-7b20-4eda-a22f-3ed04cee2d6a",
   "metadata": {},
   "outputs": [
    {
     "data": {
      "text/html": [
       "<div>\n",
       "<style scoped>\n",
       "    .dataframe tbody tr th:only-of-type {\n",
       "        vertical-align: middle;\n",
       "    }\n",
       "\n",
       "    .dataframe tbody tr th {\n",
       "        vertical-align: top;\n",
       "    }\n",
       "\n",
       "    .dataframe thead th {\n",
       "        text-align: right;\n",
       "    }\n",
       "</style>\n",
       "<table border=\"1\" class=\"dataframe\">\n",
       "  <thead>\n",
       "    <tr style=\"text-align: right;\">\n",
       "      <th></th>\n",
       "      <th>fam_status</th>\n",
       "      <th>n_dependants</th>\n",
       "    </tr>\n",
       "  </thead>\n",
       "  <tbody>\n",
       "    <tr>\n",
       "      <th>0</th>\n",
       "      <td>married</td>\n",
       "      <td>3</td>\n",
       "    </tr>\n",
       "    <tr>\n",
       "      <th>360</th>\n",
       "      <td>divorced/widowed</td>\n",
       "      <td>0</td>\n",
       "    </tr>\n",
       "    <tr>\n",
       "      <th>397</th>\n",
       "      <td>married</td>\n",
       "      <td>1</td>\n",
       "    </tr>\n",
       "    <tr>\n",
       "      <th>411</th>\n",
       "      <td>married</td>\n",
       "      <td>2</td>\n",
       "    </tr>\n",
       "    <tr>\n",
       "      <th>979</th>\n",
       "      <td>single</td>\n",
       "      <td>0</td>\n",
       "    </tr>\n",
       "    <tr>\n",
       "      <th>7162</th>\n",
       "      <td>living with parents and siblings</td>\n",
       "      <td>3</td>\n",
       "    </tr>\n",
       "    <tr>\n",
       "      <th>10090</th>\n",
       "      <td>living with parents and siblings</td>\n",
       "      <td>2</td>\n",
       "    </tr>\n",
       "    <tr>\n",
       "      <th>16807</th>\n",
       "      <td>living with parents and siblings</td>\n",
       "      <td>1</td>\n",
       "    </tr>\n",
       "  </tbody>\n",
       "</table>\n",
       "</div>"
      ],
      "text/plain": [
       "                             fam_status  n_dependants\n",
       "0                               married             3\n",
       "360                    divorced/widowed             0\n",
       "397                             married             1\n",
       "411                             married             2\n",
       "979                              single             0\n",
       "7162   living with parents and siblings             3\n",
       "10090  living with parents and siblings             2\n",
       "16807  living with parents and siblings             1"
      ]
     },
     "execution_count": 29,
     "metadata": {},
     "output_type": "execute_result"
    }
   ],
   "source": [
    "df_grand_merge[['fam_status', 'n_dependants']].drop_duplicates()"
   ]
  },
  {
   "cell_type": "code",
   "execution_count": 30,
   "id": "40dea2a7-2679-463c-86d8-fc037ab6a30f",
   "metadata": {
    "scrolled": true
   },
   "outputs": [
    {
     "data": {
      "text/plain": [
       "family_profile\n",
       "Married with children       15205849\n",
       "Single without children      8097503\n",
       "Married without children     7550904\n",
       "Single with children         1550603\n",
       "Name: count, dtype: int64"
      ]
     },
     "execution_count": 30,
     "metadata": {},
     "output_type": "execute_result"
    }
   ],
   "source": [
    "df_grand_merge['family_profile'].value_counts(dropna = False)"
   ]
  },
  {
   "cell_type": "code",
   "execution_count": 31,
   "id": "cc7b6ce8-7bd1-49de-8109-04781f754b0d",
   "metadata": {},
   "outputs": [
    {
     "data": {
      "text/html": [
       "<div>\n",
       "<style scoped>\n",
       "    .dataframe tbody tr th:only-of-type {\n",
       "        vertical-align: middle;\n",
       "    }\n",
       "\n",
       "    .dataframe tbody tr th {\n",
       "        vertical-align: top;\n",
       "    }\n",
       "\n",
       "    .dataframe thead tr th {\n",
       "        text-align: left;\n",
       "    }\n",
       "\n",
       "    .dataframe thead tr:last-of-type th {\n",
       "        text-align: right;\n",
       "    }\n",
       "</style>\n",
       "<table border=\"1\" class=\"dataframe\">\n",
       "  <thead>\n",
       "    <tr>\n",
       "      <th></th>\n",
       "      <th colspan=\"3\" halign=\"left\">prices</th>\n",
       "      <th colspan=\"3\" halign=\"left\">order_number</th>\n",
       "    </tr>\n",
       "    <tr>\n",
       "      <th></th>\n",
       "      <th>mean</th>\n",
       "      <th>min</th>\n",
       "      <th>max</th>\n",
       "      <th>mean</th>\n",
       "      <th>min</th>\n",
       "      <th>max</th>\n",
       "    </tr>\n",
       "    <tr>\n",
       "      <th>family_profile</th>\n",
       "      <th></th>\n",
       "      <th></th>\n",
       "      <th></th>\n",
       "      <th></th>\n",
       "      <th></th>\n",
       "      <th></th>\n",
       "    </tr>\n",
       "  </thead>\n",
       "  <tbody>\n",
       "    <tr>\n",
       "      <th>Married with children</th>\n",
       "      <td>12.154546</td>\n",
       "      <td>1.0</td>\n",
       "      <td>99999.0</td>\n",
       "      <td>17.106120</td>\n",
       "      <td>1</td>\n",
       "      <td>99</td>\n",
       "    </tr>\n",
       "    <tr>\n",
       "      <th>Married without children</th>\n",
       "      <td>11.705834</td>\n",
       "      <td>1.0</td>\n",
       "      <td>99999.0</td>\n",
       "      <td>17.052363</td>\n",
       "      <td>1</td>\n",
       "      <td>99</td>\n",
       "    </tr>\n",
       "    <tr>\n",
       "      <th>Single with children</th>\n",
       "      <td>10.828768</td>\n",
       "      <td>1.0</td>\n",
       "      <td>99999.0</td>\n",
       "      <td>17.296372</td>\n",
       "      <td>1</td>\n",
       "      <td>99</td>\n",
       "    </tr>\n",
       "    <tr>\n",
       "      <th>Single without children</th>\n",
       "      <td>12.129243</td>\n",
       "      <td>1.0</td>\n",
       "      <td>99999.0</td>\n",
       "      <td>17.264622</td>\n",
       "      <td>1</td>\n",
       "      <td>99</td>\n",
       "    </tr>\n",
       "  </tbody>\n",
       "</table>\n",
       "</div>"
      ],
      "text/plain": [
       "                             prices               order_number        \n",
       "                               mean  min      max         mean min max\n",
       "family_profile                                                        \n",
       "Married with children     12.154546  1.0  99999.0    17.106120   1  99\n",
       "Married without children  11.705834  1.0  99999.0    17.052363   1  99\n",
       "Single with children      10.828768  1.0  99999.0    17.296372   1  99\n",
       "Single without children   12.129243  1.0  99999.0    17.264622   1  99"
      ]
     },
     "execution_count": 31,
     "metadata": {},
     "output_type": "execute_result"
    }
   ],
   "source": [
    "# Aggregating family profile data\n",
    "df_grand_merge.groupby('family_profile').agg({'prices':['mean', 'min', 'max'], 'order_number':['mean', 'min', 'max']})"
   ]
  },
  {
   "cell_type": "markdown",
   "id": "5b307895-0108-43c2-a49b-71e7067d3474",
   "metadata": {},
   "source": [
    "## 0.3.4 Spend vs HOD"
   ]
  },
  {
   "cell_type": "code",
   "execution_count": 34,
   "id": "5c7ccf7f-8fc3-43d5-a06a-c382c45afc2c",
   "metadata": {},
   "outputs": [],
   "source": [
    "sumprices_ohd = df_grand_merge.groupby('order_hour_of_day').agg({'prices': ['sum']})"
   ]
  },
  {
   "cell_type": "code",
   "execution_count": 37,
   "id": "b5b3ef6b-1c1e-444b-aa6a-bb701d32ca7f",
   "metadata": {},
   "outputs": [
    {
     "data": {
      "text/html": [
       "<div>\n",
       "<style scoped>\n",
       "    .dataframe tbody tr th:only-of-type {\n",
       "        vertical-align: middle;\n",
       "    }\n",
       "\n",
       "    .dataframe tbody tr th {\n",
       "        vertical-align: top;\n",
       "    }\n",
       "\n",
       "    .dataframe thead tr th {\n",
       "        text-align: left;\n",
       "    }\n",
       "\n",
       "    .dataframe thead tr:last-of-type th {\n",
       "        text-align: right;\n",
       "    }\n",
       "</style>\n",
       "<table border=\"1\" class=\"dataframe\">\n",
       "  <thead>\n",
       "    <tr>\n",
       "      <th></th>\n",
       "      <th>prices</th>\n",
       "    </tr>\n",
       "    <tr>\n",
       "      <th></th>\n",
       "      <th>sum</th>\n",
       "    </tr>\n",
       "    <tr>\n",
       "      <th>order_hour_of_day</th>\n",
       "      <th></th>\n",
       "    </tr>\n",
       "  </thead>\n",
       "  <tbody>\n",
       "    <tr>\n",
       "      <th>0</th>\n",
       "      <td>2281125.1</td>\n",
       "    </tr>\n",
       "    <tr>\n",
       "      <th>1</th>\n",
       "      <td>1156287.5</td>\n",
       "    </tr>\n",
       "    <tr>\n",
       "      <th>2</th>\n",
       "      <td>1019750.3</td>\n",
       "    </tr>\n",
       "    <tr>\n",
       "      <th>3</th>\n",
       "      <td>680130.1</td>\n",
       "    </tr>\n",
       "    <tr>\n",
       "      <th>4</th>\n",
       "      <td>651364.0</td>\n",
       "    </tr>\n",
       "    <tr>\n",
       "      <th>5</th>\n",
       "      <td>1111937.9</td>\n",
       "    </tr>\n",
       "    <tr>\n",
       "      <th>6</th>\n",
       "      <td>3421974.7</td>\n",
       "    </tr>\n",
       "    <tr>\n",
       "      <th>7</th>\n",
       "      <td>10961331.9</td>\n",
       "    </tr>\n",
       "    <tr>\n",
       "      <th>8</th>\n",
       "      <td>21437476.7</td>\n",
       "    </tr>\n",
       "    <tr>\n",
       "      <th>9</th>\n",
       "      <td>28830061.7</td>\n",
       "    </tr>\n",
       "    <tr>\n",
       "      <th>10</th>\n",
       "      <td>32868237.5</td>\n",
       "    </tr>\n",
       "    <tr>\n",
       "      <th>11</th>\n",
       "      <td>33268554.8</td>\n",
       "    </tr>\n",
       "    <tr>\n",
       "      <th>12</th>\n",
       "      <td>31280439.7</td>\n",
       "    </tr>\n",
       "    <tr>\n",
       "      <th>13</th>\n",
       "      <td>30541285.8</td>\n",
       "    </tr>\n",
       "    <tr>\n",
       "      <th>14</th>\n",
       "      <td>31569115.4</td>\n",
       "    </tr>\n",
       "    <tr>\n",
       "      <th>15</th>\n",
       "      <td>32400773.8</td>\n",
       "    </tr>\n",
       "    <tr>\n",
       "      <th>16</th>\n",
       "      <td>31793097.5</td>\n",
       "    </tr>\n",
       "    <tr>\n",
       "      <th>17</th>\n",
       "      <td>26736786.6</td>\n",
       "    </tr>\n",
       "    <tr>\n",
       "      <th>18</th>\n",
       "      <td>19358922.1</td>\n",
       "    </tr>\n",
       "    <tr>\n",
       "      <th>19</th>\n",
       "      <td>15770718.8</td>\n",
       "    </tr>\n",
       "    <tr>\n",
       "      <th>20</th>\n",
       "      <td>11469332.3</td>\n",
       "    </tr>\n",
       "    <tr>\n",
       "      <th>21</th>\n",
       "      <td>8939914.7</td>\n",
       "    </tr>\n",
       "    <tr>\n",
       "      <th>22</th>\n",
       "      <td>6366013.0</td>\n",
       "    </tr>\n",
       "    <tr>\n",
       "      <th>23</th>\n",
       "      <td>4302890.7</td>\n",
       "    </tr>\n",
       "  </tbody>\n",
       "</table>\n",
       "</div>"
      ],
      "text/plain": [
       "                       prices\n",
       "                          sum\n",
       "order_hour_of_day            \n",
       "0                   2281125.1\n",
       "1                   1156287.5\n",
       "2                   1019750.3\n",
       "3                    680130.1\n",
       "4                    651364.0\n",
       "5                   1111937.9\n",
       "6                   3421974.7\n",
       "7                  10961331.9\n",
       "8                  21437476.7\n",
       "9                  28830061.7\n",
       "10                 32868237.5\n",
       "11                 33268554.8\n",
       "12                 31280439.7\n",
       "13                 30541285.8\n",
       "14                 31569115.4\n",
       "15                 32400773.8\n",
       "16                 31793097.5\n",
       "17                 26736786.6\n",
       "18                 19358922.1\n",
       "19                 15770718.8\n",
       "20                 11469332.3\n",
       "21                  8939914.7\n",
       "22                  6366013.0\n",
       "23                  4302890.7"
      ]
     },
     "execution_count": 37,
     "metadata": {},
     "output_type": "execute_result"
    }
   ],
   "source": [
    "sumprices_ohd\n"
   ]
  },
  {
   "cell_type": "code",
   "execution_count": 33,
   "id": "3addcdb7-2a4c-43b5-ba3e-647cbc4080fc",
   "metadata": {},
   "outputs": [
    {
     "data": {
      "text/html": [
       "<div>\n",
       "<style scoped>\n",
       "    .dataframe tbody tr th:only-of-type {\n",
       "        vertical-align: middle;\n",
       "    }\n",
       "\n",
       "    .dataframe tbody tr th {\n",
       "        vertical-align: top;\n",
       "    }\n",
       "\n",
       "    .dataframe thead tr th {\n",
       "        text-align: left;\n",
       "    }\n",
       "\n",
       "    .dataframe thead tr:last-of-type th {\n",
       "        text-align: right;\n",
       "    }\n",
       "</style>\n",
       "<table border=\"1\" class=\"dataframe\">\n",
       "  <thead>\n",
       "    <tr>\n",
       "      <th></th>\n",
       "      <th>prices</th>\n",
       "    </tr>\n",
       "    <tr>\n",
       "      <th></th>\n",
       "      <th>mean</th>\n",
       "    </tr>\n",
       "    <tr>\n",
       "      <th>order_hour_of_day</th>\n",
       "      <th></th>\n",
       "    </tr>\n",
       "  </thead>\n",
       "  <tbody>\n",
       "    <tr>\n",
       "      <th>0</th>\n",
       "      <td>10.427095</td>\n",
       "    </tr>\n",
       "    <tr>\n",
       "      <th>1</th>\n",
       "      <td>9.993842</td>\n",
       "    </tr>\n",
       "    <tr>\n",
       "      <th>2</th>\n",
       "      <td>14.699103</td>\n",
       "    </tr>\n",
       "    <tr>\n",
       "      <th>3</th>\n",
       "      <td>13.262809</td>\n",
       "    </tr>\n",
       "    <tr>\n",
       "      <th>4</th>\n",
       "      <td>12.234026</td>\n",
       "    </tr>\n",
       "    <tr>\n",
       "      <th>5</th>\n",
       "      <td>12.641260</td>\n",
       "    </tr>\n",
       "    <tr>\n",
       "      <th>6</th>\n",
       "      <td>11.779887</td>\n",
       "    </tr>\n",
       "    <tr>\n",
       "      <th>7</th>\n",
       "      <td>12.301535</td>\n",
       "    </tr>\n",
       "    <tr>\n",
       "      <th>8</th>\n",
       "      <td>12.477302</td>\n",
       "    </tr>\n",
       "    <tr>\n",
       "      <th>9</th>\n",
       "      <td>11.747220</td>\n",
       "    </tr>\n",
       "    <tr>\n",
       "      <th>10</th>\n",
       "      <td>11.901193</td>\n",
       "    </tr>\n",
       "    <tr>\n",
       "      <th>11</th>\n",
       "      <td>12.158937</td>\n",
       "    </tr>\n",
       "    <tr>\n",
       "      <th>12</th>\n",
       "      <td>11.945792</td>\n",
       "    </tr>\n",
       "    <tr>\n",
       "      <th>13</th>\n",
       "      <td>11.477570</td>\n",
       "    </tr>\n",
       "    <tr>\n",
       "      <th>14</th>\n",
       "      <td>11.739501</td>\n",
       "    </tr>\n",
       "    <tr>\n",
       "      <th>15</th>\n",
       "      <td>12.170932</td>\n",
       "    </tr>\n",
       "    <tr>\n",
       "      <th>16</th>\n",
       "      <td>12.540657</td>\n",
       "    </tr>\n",
       "    <tr>\n",
       "      <th>17</th>\n",
       "      <td>12.807097</td>\n",
       "    </tr>\n",
       "    <tr>\n",
       "      <th>18</th>\n",
       "      <td>11.829452</td>\n",
       "    </tr>\n",
       "    <tr>\n",
       "      <th>19</th>\n",
       "      <td>12.533304</td>\n",
       "    </tr>\n",
       "    <tr>\n",
       "      <th>20</th>\n",
       "      <td>11.749487</td>\n",
       "    </tr>\n",
       "    <tr>\n",
       "      <th>21</th>\n",
       "      <td>11.236173</td>\n",
       "    </tr>\n",
       "    <tr>\n",
       "      <th>22</th>\n",
       "      <td>10.037468</td>\n",
       "    </tr>\n",
       "    <tr>\n",
       "      <th>23</th>\n",
       "      <td>10.695301</td>\n",
       "    </tr>\n",
       "  </tbody>\n",
       "</table>\n",
       "</div>"
      ],
      "text/plain": [
       "                      prices\n",
       "                        mean\n",
       "order_hour_of_day           \n",
       "0                  10.427095\n",
       "1                   9.993842\n",
       "2                  14.699103\n",
       "3                  13.262809\n",
       "4                  12.234026\n",
       "5                  12.641260\n",
       "6                  11.779887\n",
       "7                  12.301535\n",
       "8                  12.477302\n",
       "9                  11.747220\n",
       "10                 11.901193\n",
       "11                 12.158937\n",
       "12                 11.945792\n",
       "13                 11.477570\n",
       "14                 11.739501\n",
       "15                 12.170932\n",
       "16                 12.540657\n",
       "17                 12.807097\n",
       "18                 11.829452\n",
       "19                 12.533304\n",
       "20                 11.749487\n",
       "21                 11.236173\n",
       "22                 10.037468\n",
       "23                 10.695301"
      ]
     },
     "execution_count": 33,
     "metadata": {},
     "output_type": "execute_result"
    }
   ],
   "source": [
    "df_grand_merge.groupby('order_hour_of_day').agg({'prices': ['mean']})"
   ]
  },
  {
   "cell_type": "code",
   "execution_count": null,
   "id": "14f3cbb2-60c7-472a-b95f-bf25392e268a",
   "metadata": {},
   "outputs": [],
   "source": []
  },
  {
   "cell_type": "markdown",
   "id": "8eda0925-e185-4db4-8ea6-ab149f9ea811",
   "metadata": {},
   "source": [
    "# 0.4 Visualizations"
   ]
  },
  {
   "cell_type": "code",
   "execution_count": 38,
   "id": "08412425-492a-4997-b3c7-808c6c4f5ae8",
   "metadata": {
    "scrolled": true
   },
   "outputs": [
    {
     "data": {
      "image/png": "[encoded data removed]",
      "text/plain": [
       "<Figure size 640x480 with 1 Axes>"
      ]
     },
     "metadata": {},
     "output_type": "display_data"
    }
   ],
   "source": [
    "#Creating a bar chart of family profiles\n",
    "Bar1 = df_grand_merge['family_profile'].value_counts().plot.bar()"
   ]
  },
  {
   "cell_type": "code",
   "execution_count": 39,
   "id": "f3f58ca0-af93-4bf1-a8cf-328157d8554a",
   "metadata": {},
   "outputs": [],
   "source": [
    "#Exporting this visualization\n",
    "Bar1.figure.savefig(os.path.join(path, '04-Analytics', 'Visualizations', 'Bar1.png'), dpi = 300, bbox_inches = 'tight')"
   ]
  },
  {
   "cell_type": "code",
   "execution_count": 40,
   "id": "3ca585bb-b212-4ce4-a4da-fe7dfb6b3310",
   "metadata": {
    "scrolled": true
   },
   "outputs": [
    {
     "data": {
      "image/png": "[encoded data removed]",
      "text/plain": [
       "<Figure size 640x480 with 1 Axes>"
      ]
     },
     "metadata": {},
     "output_type": "display_data"
    }
   ],
   "source": [
    "#Creating a bar chart\n",
    "orders_dow=df_grand_merge['order_day_of_week'].value_counts().sort_index().plot.bar(color = '#539caf')"
   ]
  },
  {
   "cell_type": "code",
   "execution_count": 41,
   "id": "037aab57-1f6a-4ac4-a249-921a17b4bf9e",
   "metadata": {},
   "outputs": [],
   "source": [
    "#Exporting this visualization\n",
    "orders_dow.figure.savefig(os.path.join(path, '04-Analytics', 'Visualizations', 'orders_dow.png'), dpi = 300, bbox_inches = 'tight')"
   ]
  },
  {
   "cell_type": "code",
   "execution_count": 42,
   "id": "e186263d-d054-474c-b17a-04c94c1b19d4",
   "metadata": {
    "scrolled": true
   },
   "outputs": [
    {
     "data": {
      "image/png": "[encoded data removed]",
      "text/plain": [
       "<Figure size 640x480 with 1 Axes>"
      ]
     },
     "metadata": {},
     "output_type": "display_data"
    }
   ],
   "source": [
    "#Creating a bar chart of price range\n",
    "price_ranges = df_grand_merge['price_range_loc'].value_counts().plot.bar(color = '#539caf')"
   ]
  },
  {
   "cell_type": "code",
   "execution_count": 48,
   "id": "c7011e49-2634-4881-bbf4-6855fa8969cc",
   "metadata": {},
   "outputs": [],
   "source": [
    "#Exporting this visualization\n",
    "price_ranges.figure.savefig(os.path.join(path, '04-Analytics', 'Visualizations', 'price_ranges.png'), dpi = 300, bbox_inches = 'tight')"
   ]
  },
  {
   "cell_type": "code",
   "execution_count": 45,
   "id": "ffcc2252-87ef-4441-b666-0f916709c1f1",
   "metadata": {},
   "outputs": [
    {
     "data": {
      "image/png": "[encoded data removed]",
      "text/plain": [
       "<Figure size 640x480 with 1 Axes>"
      ]
     },
     "metadata": {},
     "output_type": "display_data"
    }
   ],
   "source": [
    "#Creating a bar chart of department_id\n",
    "department_frequency = df_grand_merge['department_id'].value_counts().sort_index().plot.bar(color = '#539caf')"
   ]
  },
  {
   "cell_type": "code",
   "execution_count": 47,
   "id": "c7b89c0f-198d-4dc5-92c2-dfefc6dc5cc2",
   "metadata": {},
   "outputs": [],
   "source": [
    "#Exporting this visualization\n",
    "department_frequency.figure.savefig(os.path.join(path, '04-Analytics', 'Visualizations', 'department_frequency.png'), dpi = 300, bbox_inches = 'tight')"
   ]
  },
  {
   "cell_type": "code",
   "execution_count": 52,
   "id": "0a09fd9d-7bbc-4355-ab5a-d4f6db3db2ff",
   "metadata": {
    "scrolled": true
   },
   "outputs": [
    {
     "data": {
      "image/png": "[encoded data removed]",
      "text/plain": [
       "<Figure size 640x480 with 1 Axes>"
      ]
     },
     "metadata": {},
     "output_type": "display_data"
    }
   ],
   "source": [
    "#Creating a bar chart of regions\n",
    "region_frequency = df_grand_merge['region'].value_counts().plot.bar(color = '#539caf')"
   ]
  },
  {
   "cell_type": "code",
   "execution_count": 59,
   "id": "d9d92df1-3b88-41df-8180-df90979fb4d9",
   "metadata": {},
   "outputs": [],
   "source": [
    "#Exporting this visualization\n",
    "region_frequency.figure.savefig(os.path.join(path, '04-Analytics', 'Visualizations', 'region_frequency.png'), dpi = 300, bbox_inches = 'tight')"
   ]
  },
  {
   "cell_type": "code",
   "execution_count": 60,
   "id": "39bfaadb-bf90-4d36-b411-88553050e0bb",
   "metadata": {},
   "outputs": [
    {
     "data": {
      "image/png": "[encoded data removed]",
      "text/plain": [
       "<Figure size 640x480 with 1 Axes>"
      ]
     },
     "metadata": {},
     "output_type": "display_data"
    }
   ],
   "source": [
    "#Creating a bar chart of family status\n",
    "fam_status_frequency = df_grand_merge['fam_status'].value_counts().plot.bar(color = '#539caf')"
   ]
  },
  {
   "cell_type": "code",
   "execution_count": 61,
   "id": "5283375c-43e5-442d-9dd2-8adbe7e533b8",
   "metadata": {},
   "outputs": [],
   "source": [
    "#Exporting this visualization\n",
    "fam_status_frequency.figure.savefig(os.path.join(path, '04-Analytics', 'Visualizations', 'fam_status_frequency.png'), dpi = 300, bbox_inches = 'tight')"
   ]
  },
  {
   "cell_type": "code",
   "execution_count": 70,
   "id": "fd6400a1-98c9-45ec-8660-4330324571bc",
   "metadata": {
    "scrolled": true
   },
   "outputs": [
    {
     "data": {
      "image/png": "[encoded data removed]",
      "text/plain": [
       "<Figure size 640x480 with 1 Axes>"
      ]
     },
     "metadata": {},
     "output_type": "display_data"
    }
   ],
   "source": [
    "# Histogram of order_hour_of_day \n",
    "age_hist=df_grand_merge['age'].plot.hist(bins=10, color = '#539caf')\n"
   ]
  },
  {
   "cell_type": "code",
   "execution_count": 72,
   "id": "4d509b8f-d30e-482f-ae51-f80876d84c4b",
   "metadata": {},
   "outputs": [],
   "source": [
    "#Exporting this visualization\n",
    "age_hist.figure.savefig(os.path.join(path, '04-Analytics', 'Visualizations', 'age_frequency.png'), dpi = 300, bbox_inches = 'tight')"
   ]
  },
  {
   "cell_type": "code",
   "execution_count": null,
   "id": "d0893f2f-9d08-4e24-8a09-e39ff498853c",
   "metadata": {},
   "outputs": [],
   "source": []
  },
  {
   "cell_type": "code",
   "execution_count": 122,
   "id": "c2c26a6d-017b-49ac-96a1-d7e151b5a9cc",
   "metadata": {
    "scrolled": true
   },
   "outputs": [
    {
     "data": {
      "text/plain": [
       "<Axes: xlabel='order_hour_of_day'>"
      ]
     },
     "execution_count": 122,
     "metadata": {},
     "output_type": "execute_result"
    },
    {
     "data": {
      "image/png": "[encoded data removed]",
      "text/plain": [
       "<Figure size 640x480 with 1 Axes>"
      ]
     },
     "metadata": {},
     "output_type": "display_data"
    }
   ],
   "source": [
    "# Creating another bar chart\n",
    "df_grand_merge['order_hour_of_day'].value_counts().sort_index().plot.bar()"
   ]
  },
  {
   "cell_type": "code",
   "execution_count": 123,
   "id": "0f4c10a8-20f7-440f-a431-76a646c63a40",
   "metadata": {},
   "outputs": [
    {
     "data": {
      "text/plain": [
       "<Axes: ylabel='Frequency'>"
      ]
     },
     "execution_count": 123,
     "metadata": {},
     "output_type": "execute_result"
    },
    {
     "data": {
      "image/png": "[encoded data removed]",
      "text/plain": [
       "<Figure size 640x480 with 1 Axes>"
      ]
     },
     "metadata": {},
     "output_type": "display_data"
    }
   ],
   "source": [
    "# Histogram of order_hour_of_day \n",
    "df_grand_merge['order_hour_of_day'].plot.hist(bins=24)"
   ]
  },
  {
   "cell_type": "code",
   "execution_count": 125,
   "id": "0bd10ac8-79cd-498d-ab8a-6a933ad42e51",
   "metadata": {},
   "outputs": [],
   "source": [
    "#Another way to produce hystogram\n",
    "def histogram(data, n_bins, cumulative=False, x_label = \" \", y_label = \" \", title = \" \"):\n",
    "    _, ax = plt.subplots()\n",
    "    ax.hist(data, bins = n_bins, cumulative = cumulative, color = '#539caf')\n",
    "    ax.set_ylabel(y_label)\n",
    "    ax.set_xlabel(x_label)\n",
    "    ax.set_title(title)"
   ]
  },
  {
   "cell_type": "code",
   "execution_count": 126,
   "id": "f8b6c507-ea41-42bb-917a-3f65702b5e11",
   "metadata": {},
   "outputs": [
    {
     "data": {
      "image/png": "[encoded data removed]",
      "text/plain": [
       "<Figure size 640x480 with 1 Axes>"
      ]
     },
     "metadata": {},
     "output_type": "display_data"
    }
   ],
   "source": [
    "data = df_grand_merge['order_hour_of_day']\n",
    "histogram(data, n_bins = 24, cumulative = False, x_label = 'Hour of day', y_label = 'Orders frequency', title = 'Order frequency vs Hour of the day')"
   ]
  },
  {
   "cell_type": "code",
   "execution_count": 127,
   "id": "e741b3c3-4f25-4282-bb5e-951e6bd7d5c2",
   "metadata": {
    "scrolled": true
   },
   "outputs": [
    {
     "data": {
      "image/png": "[encoded data removed]",
      "text/plain": [
       "<Figure size 640x480 with 1 Axes>"
      ]
     },
     "metadata": {},
     "output_type": "display_data"
    }
   ],
   "source": [
    "#Exporting this nice histogram\n",
    "plt.hist(data, bins = 24, color = '#539caf')\n",
    "plt.xlabel('Hour of day')\n",
    "plt.ylabel('Orders frequency')\n",
    "plt.savefig(os.path.join(path, '04-Analytics', 'Visualizations', 'Orders_hod.png'), dpi = 300, bbox_inches = 'tight')"
   ]
  },
  {
   "cell_type": "code",
   "execution_count": 58,
   "id": "606dff7b-fb59-40be-971d-f7c17d4f35ef",
   "metadata": {},
   "outputs": [],
   "source": [
    "plt.close()"
   ]
  },
  {
   "cell_type": "code",
   "execution_count": 65,
   "id": "48dce93e-3c32-4b79-8598-68cac86a56e5",
   "metadata": {
    "scrolled": true
   },
   "outputs": [
    {
     "data": {
      "image/png": "[encoded data removed]",
      "text/plain": [
       "<Figure size 640x480 with 1 Axes>"
      ]
     },
     "metadata": {},
     "output_type": "display_data"
    }
   ],
   "source": [
    "# Visualizing loyality flag\n",
    "bar_loyality = df_grand_merge['loyality_flag'].value_counts().plot.bar(color = '#539caf')"
   ]
  },
  {
   "cell_type": "code",
   "execution_count": 66,
   "id": "3a39f49f-ef87-4de5-a705-df2ebb1e0d6e",
   "metadata": {},
   "outputs": [],
   "source": [
    "#Exporting this visualization\n",
    "bar_loyality.figure.savefig(os.path.join(path, '04-Analytics', 'Visualizations', 'Bar_loyality.png'), dpi = 300, bbox_inches = 'tight')"
   ]
  },
  {
   "cell_type": "markdown",
   "id": "72ccde5f-c7e1-4c92-8a17-b35d178e0b11",
   "metadata": {},
   "source": [
    "# 0.5 Sampling data"
   ]
  },
  {
   "cell_type": "markdown",
   "id": "d48fb3ca-073f-44e6-9dc1-b5d0dbdc7612",
   "metadata": {},
   "source": [
    "## 0.5.1 Price vs Hour of day"
   ]
  },
  {
   "cell_type": "code",
   "execution_count": 128,
   "id": "1f250c57-3695-4757-84b7-3a6c6994e101",
   "metadata": {},
   "outputs": [],
   "source": [
    "#Creating a sample (20 and 80)\n",
    "np.random.seed(4)\n",
    "dev = np.random.rand(len(df_grand_merge))<=0.8"
   ]
  },
  {
   "cell_type": "code",
   "execution_count": 129,
   "id": "f889b3e9-d5f1-4220-9192-3cdb7115d63e",
   "metadata": {},
   "outputs": [],
   "source": [
    "# Store 80% of the sample in the dataframe big\n",
    "big = df_grand_merge[dev]"
   ]
  },
  {
   "cell_type": "code",
   "execution_count": 130,
   "id": "ff58b15b-6261-4f61-a193-a2ac046148a6",
   "metadata": {},
   "outputs": [],
   "source": [
    "#Store 20% of the sample in the dataframe small\n",
    "small = df_grand_merge[~dev]"
   ]
  },
  {
   "cell_type": "code",
   "execution_count": 131,
   "id": "e29428bb-e89f-4dc1-a9bf-886f78841af1",
   "metadata": {},
   "outputs": [
    {
     "data": {
      "text/plain": [
       "32404859"
      ]
     },
     "execution_count": 131,
     "metadata": {},
     "output_type": "execute_result"
    }
   ],
   "source": [
    "#Consistency check\n",
    "len(df_grand_merge)"
   ]
  },
  {
   "cell_type": "code",
   "execution_count": 132,
   "id": "9f7d96c2-6aa1-4d78-a81b-4d51688c63f0",
   "metadata": {},
   "outputs": [
    {
     "data": {
      "text/plain": [
       "32404859"
      ]
     },
     "execution_count": 132,
     "metadata": {},
     "output_type": "execute_result"
    }
   ],
   "source": [
    "len(big)+len(small)"
   ]
  },
  {
   "cell_type": "code",
   "execution_count": 133,
   "id": "cac1c4ff-7fe0-41ba-a193-99271efdd81f",
   "metadata": {},
   "outputs": [],
   "source": [
    "#Further specifying the necessary data \n",
    "df_1 = small[['order_hour_of_day', 'prices']]"
   ]
  },
  {
   "cell_type": "code",
   "execution_count": 134,
   "id": "dadedb6f-faca-4ced-8f60-60703c13d5d5",
   "metadata": {},
   "outputs": [
    {
     "data": {
      "image/png": "[encoded data removed]",
      "text/plain": [
       "<Figure size 640x480 with 1 Axes>"
      ]
     },
     "metadata": {},
     "output_type": "display_data"
    }
   ],
   "source": [
    "# Now lineplot can be created\n",
    "line1 = sns.lineplot(data = df_1, x = 'order_hour_of_day', y = 'prices')"
   ]
  },
  {
   "cell_type": "code",
   "execution_count": 88,
   "id": "34a799af-352c-4b92-a85f-fcb72184cb83",
   "metadata": {},
   "outputs": [],
   "source": [
    "#Exporting this visualization\n",
    "line1.figure.savefig(os.path.join(path, '04-Analytics', 'Visualizations', 'line1.png'), dpi = 300, bbox_inches = 'tight')"
   ]
  },
  {
   "cell_type": "markdown",
   "id": "d5b555c0-1e33-407a-82e8-22ee014c635b",
   "metadata": {},
   "source": [
    "## 0.5.2 Dependants vs Age"
   ]
  },
  {
   "cell_type": "code",
   "execution_count": 135,
   "id": "6a4afadc-bc77-423b-b872-a646e54d1a42",
   "metadata": {},
   "outputs": [],
   "source": [
    "#Defining the minimum dataset\n",
    "df_2 = small[['age', 'n_dependants']]"
   ]
  },
  {
   "cell_type": "code",
   "execution_count": 136,
   "id": "6d211666-17c4-438f-849d-7c47841327bd",
   "metadata": {},
   "outputs": [
    {
     "data": {
      "text/html": [
       "<div>\n",
       "<style scoped>\n",
       "    .dataframe tbody tr th:only-of-type {\n",
       "        vertical-align: middle;\n",
       "    }\n",
       "\n",
       "    .dataframe tbody tr th {\n",
       "        vertical-align: top;\n",
       "    }\n",
       "\n",
       "    .dataframe thead th {\n",
       "        text-align: right;\n",
       "    }\n",
       "</style>\n",
       "<table border=\"1\" class=\"dataframe\">\n",
       "  <thead>\n",
       "    <tr style=\"text-align: right;\">\n",
       "      <th></th>\n",
       "      <th>age</th>\n",
       "      <th>n_dependants</th>\n",
       "    </tr>\n",
       "  </thead>\n",
       "  <tbody>\n",
       "    <tr>\n",
       "      <th>0</th>\n",
       "      <td>31</td>\n",
       "      <td>3</td>\n",
       "    </tr>\n",
       "    <tr>\n",
       "      <th>2</th>\n",
       "      <td>31</td>\n",
       "      <td>3</td>\n",
       "    </tr>\n",
       "    <tr>\n",
       "      <th>6</th>\n",
       "      <td>31</td>\n",
       "      <td>3</td>\n",
       "    </tr>\n",
       "    <tr>\n",
       "      <th>12</th>\n",
       "      <td>31</td>\n",
       "      <td>3</td>\n",
       "    </tr>\n",
       "    <tr>\n",
       "      <th>13</th>\n",
       "      <td>31</td>\n",
       "      <td>3</td>\n",
       "    </tr>\n",
       "    <tr>\n",
       "      <th>...</th>\n",
       "      <td>...</td>\n",
       "      <td>...</td>\n",
       "    </tr>\n",
       "    <tr>\n",
       "      <th>454</th>\n",
       "      <td>39</td>\n",
       "      <td>2</td>\n",
       "    </tr>\n",
       "    <tr>\n",
       "      <th>456</th>\n",
       "      <td>39</td>\n",
       "      <td>2</td>\n",
       "    </tr>\n",
       "    <tr>\n",
       "      <th>461</th>\n",
       "      <td>39</td>\n",
       "      <td>2</td>\n",
       "    </tr>\n",
       "    <tr>\n",
       "      <th>466</th>\n",
       "      <td>39</td>\n",
       "      <td>2</td>\n",
       "    </tr>\n",
       "    <tr>\n",
       "      <th>472</th>\n",
       "      <td>39</td>\n",
       "      <td>2</td>\n",
       "    </tr>\n",
       "  </tbody>\n",
       "</table>\n",
       "<p>100 rows × 2 columns</p>\n",
       "</div>"
      ],
      "text/plain": [
       "     age  n_dependants\n",
       "0     31             3\n",
       "2     31             3\n",
       "6     31             3\n",
       "12    31             3\n",
       "13    31             3\n",
       "..   ...           ...\n",
       "454   39             2\n",
       "456   39             2\n",
       "461   39             2\n",
       "466   39             2\n",
       "472   39             2\n",
       "\n",
       "[100 rows x 2 columns]"
      ]
     },
     "execution_count": 136,
     "metadata": {},
     "output_type": "execute_result"
    }
   ],
   "source": [
    "df_2.head(100)\n"
   ]
  },
  {
   "cell_type": "code",
   "execution_count": 137,
   "id": "bfde06f2-f348-48d9-86d4-1d3d513e998e",
   "metadata": {
    "scrolled": true
   },
   "outputs": [
    {
     "data": {
      "image/png": "[encoded data removed]",
      "text/plain": [
       "<Figure size 640x480 with 1 Axes>"
      ]
     },
     "metadata": {},
     "output_type": "display_data"
    }
   ],
   "source": [
    "# Creating lineplot \n",
    "line2 = sns.lineplot(data = df_2, x = 'age', y = 'n_dependants')"
   ]
  },
  {
   "cell_type": "code",
   "execution_count": 96,
   "id": "59e8e0e6-51c7-4b4f-a35a-0a090114bc21",
   "metadata": {},
   "outputs": [],
   "source": [
    "#Exporting this visualiszation\n",
    "line2.figure.savefig(os.path.join(path, '04-Analytics', 'Visualizations', 'line2.png'), dpi = 300, bbox_inches = 'tight')"
   ]
  },
  {
   "cell_type": "markdown",
   "id": "b4182f87-2d69-4b5c-a3e8-2d85fc156cc6",
   "metadata": {},
   "source": [
    "## No clear correlation bewteen aga and the number of dependants is observed."
   ]
  },
  {
   "cell_type": "markdown",
   "id": "e3a55774-9f69-4d49-b6a8-12163040fb10",
   "metadata": {},
   "source": [
    "## 0.5.3. Income vs Age"
   ]
  },
  {
   "cell_type": "code",
   "execution_count": 138,
   "id": "99500506-899c-44c8-938b-bcfbf430a452",
   "metadata": {},
   "outputs": [],
   "source": [
    "# Defining minimum dataset\n",
    "df_3 = small[['age', 'income']]"
   ]
  },
  {
   "cell_type": "code",
   "execution_count": 139,
   "id": "52b19933-7123-4281-ad8d-fabefc316690",
   "metadata": {},
   "outputs": [
    {
     "data": {
      "text/html": [
       "<div>\n",
       "<style scoped>\n",
       "    .dataframe tbody tr th:only-of-type {\n",
       "        vertical-align: middle;\n",
       "    }\n",
       "\n",
       "    .dataframe tbody tr th {\n",
       "        vertical-align: top;\n",
       "    }\n",
       "\n",
       "    .dataframe thead th {\n",
       "        text-align: right;\n",
       "    }\n",
       "</style>\n",
       "<table border=\"1\" class=\"dataframe\">\n",
       "  <thead>\n",
       "    <tr style=\"text-align: right;\">\n",
       "      <th></th>\n",
       "      <th>age</th>\n",
       "      <th>income</th>\n",
       "    </tr>\n",
       "  </thead>\n",
       "  <tbody>\n",
       "    <tr>\n",
       "      <th>0</th>\n",
       "      <td>31</td>\n",
       "      <td>40423</td>\n",
       "    </tr>\n",
       "    <tr>\n",
       "      <th>2</th>\n",
       "      <td>31</td>\n",
       "      <td>40423</td>\n",
       "    </tr>\n",
       "    <tr>\n",
       "      <th>6</th>\n",
       "      <td>31</td>\n",
       "      <td>40423</td>\n",
       "    </tr>\n",
       "    <tr>\n",
       "      <th>12</th>\n",
       "      <td>31</td>\n",
       "      <td>40423</td>\n",
       "    </tr>\n",
       "    <tr>\n",
       "      <th>13</th>\n",
       "      <td>31</td>\n",
       "      <td>40423</td>\n",
       "    </tr>\n",
       "  </tbody>\n",
       "</table>\n",
       "</div>"
      ],
      "text/plain": [
       "    age  income\n",
       "0    31   40423\n",
       "2    31   40423\n",
       "6    31   40423\n",
       "12   31   40423\n",
       "13   31   40423"
      ]
     },
     "execution_count": 139,
     "metadata": {},
     "output_type": "execute_result"
    }
   ],
   "source": [
    "df_3.head(5)"
   ]
  },
  {
   "cell_type": "code",
   "execution_count": 140,
   "id": "6544c309-3077-431f-aee7-aed55295b699",
   "metadata": {},
   "outputs": [
    {
     "data": {
      "image/png": "[encoded data removed]",
      "text/plain": [
       "<Figure size 640x480 with 1 Axes>"
      ]
     },
     "metadata": {},
     "output_type": "display_data"
    }
   ],
   "source": [
    "#Creating scatterplot\n",
    "scatter1 = sns.scatterplot(x= 'age', y= 'income', data = df_3)"
   ]
  },
  {
   "cell_type": "code",
   "execution_count": 100,
   "id": "77bfd9ce-9ad5-4d60-9eb9-541d54678835",
   "metadata": {},
   "outputs": [],
   "source": [
    "#Exporting this visualiszation\n",
    "scatter1.figure.savefig(os.path.join(path, '04-Analytics', 'Visualizations', 'scatter1.png'), dpi = 300, bbox_inches = 'tight')"
   ]
  },
  {
   "cell_type": "markdown",
   "id": "9cdc397a-2dd9-4951-9d7d-395929eedfe4",
   "metadata": {},
   "source": [
    "## There is a visible increase in income with age. In particular, it is clearly seen that the number of people with income >~ 200000 increases considerably at age >~ 40"
   ]
  },
  {
   "cell_type": "code",
   "execution_count": null,
   "id": "29dfd3a8-accb-4c26-ba42-fb7213859c12",
   "metadata": {},
   "outputs": [],
   "source": []
  }
 ],
 "metadata": {
  "kernelspec": {
   "display_name": "Python 3 (ipykernel)",
   "language": "python",
   "name": "python3"
  },
  "language_info": {
   "codemirror_mode": {
    "name": "ipython",
    "version": 3
   },
   "file_extension": ".py",
   "mimetype": "text/x-python",
   "name": "python",
   "nbconvert_exporter": "python",
   "pygments_lexer": "ipython3",
   "version": "3.12.7"
  }
 },
 "nbformat": 4,
 "nbformat_minor": 5
}
